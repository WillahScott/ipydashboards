{
 "cells": [
  {
   "cell_type": "markdown",
   "metadata": {},
   "source": [
    "# Dashboard Elements  \n",
    "\n",
    "For a more comprehensive list of all widgets available refer to the following [example](https://github.com/ipython/ipywidgets/blob/master/examples/Widget%20List.ipynb) from the ipywidgets documentation.\n",
    "\n",
    "This notebook contains the following examples:  \n",
    "  \n",
    "* **Elements**: Widgets  \n",
    "    * [Button](#Button)  \n",
    "    * [Toggle buttons](#Toggle-button)  \n",
    "    * [Radio buttons](#Radio-button)  \n",
    "    * [Check boxes](#Check-box)  \n",
    "    * [HTML (for titles)](#HTML-for-titles)  \n",
    "    * [Slider](#Slider)  \n",
    "    * [Progress bar](#Progress-bar)  \n",
    "    * [Dropdown](#Dropdown-list)  \n",
    "    * [List selection](#List-selection)  \n",
    "        * [Multiple selection](#Multiple-selection)\n",
    "    * [Text areas](#Text-areas)  \n",
    "        * [Text field](#Text-field)\n",
    "        * [Text area](#Text-area)\n",
    "        * [Float field](#Float-field)\n",
    "        * [Bounded-value float field](#Bounded-float-field)  \n",
    "  \n",
    "  \n",
    "* **Layout**: Grouping widgets  \n",
    "    * [Vertically](#VBox)  \n",
    "    * [Horizontally](#HBox)  \n",
    "    * [**Example dashboard**](#Full-layout)\n",
    "  \n",
    "  \n",
    "* **Actions**: Handling events  \n",
    "    * [Click button](#Click-button)  \n",
    "    * [Submit form](#Submit-form)  \n",
    "    * [On value change](#On-value-change)  "
   ]
  },
  {
   "cell_type": "code",
   "execution_count": 1,
   "metadata": {
    "collapsed": false
   },
   "outputs": [],
   "source": [
    "from ipywidgets import widgets\n",
    "from IPython.display import display, clear_output"
   ]
  },
  {
   "cell_type": "markdown",
   "metadata": {},
   "source": [
    "## Widgets "
   ]
  },
  {
   "cell_type": "markdown",
   "metadata": {},
   "source": [
    "### Button"
   ]
  },
  {
   "cell_type": "code",
   "execution_count": 2,
   "metadata": {
    "collapsed": true
   },
   "outputs": [],
   "source": [
    "bt = widgets.Button(description=\"Click Me!\")\n",
    "display(bt)"
   ]
  },
  {
   "cell_type": "markdown",
   "metadata": {},
   "source": [
    "### Toggle buttons  \n",
    "\n",
    "Toggle buttons can take a single value of any of the values specified in the `options` list"
   ]
  },
  {
   "cell_type": "code",
   "execution_count": 3,
   "metadata": {
    "collapsed": false
   },
   "outputs": [],
   "source": [
    "tog = widgets.widget_selection.ToggleButtons(\n",
    "    options=['Left','Middle','Right','...more?'],\n",
    "    description=\"Pick:\",\n",
    ")\n",
    "display(tog)"
   ]
  },
  {
   "cell_type": "markdown",
   "metadata": {},
   "source": [
    "Additionally, a dictionary can be passed into `options` therefore the \"label\" will be the key, but the value of the widget will be defined by the \"value\" of the dictionary:  \n",
    "\n",
    "**NOTE** - *if passing a dictionary the items will be ordered according to the dictionary's hash*"
   ]
  },
  {
   "cell_type": "code",
   "execution_count": 4,
   "metadata": {
    "collapsed": false
   },
   "outputs": [],
   "source": [
    "tog2 = widgets.widget_selection.ToggleButtons(\n",
    "    options={'one': 1, 'two': 2, 'three': 3},\n",
    "    description=\"Pick a number:\",\n",
    ")\n",
    "display(tog2)"
   ]
  },
  {
   "cell_type": "markdown",
   "metadata": {
    "collapsed": true
   },
   "source": [
    "### Radio buttons"
   ]
  },
  {
   "cell_type": "code",
   "execution_count": 5,
   "metadata": {
    "collapsed": false
   },
   "outputs": [],
   "source": [
    "radio = widgets.widget_selection.RadioButtons(\n",
    "    description='Pick one:',\n",
    "    options=['Altavista', 'Netscape', 'Gnutella'],\n",
    ")\n",
    "display(radio)"
   ]
  },
  {
   "cell_type": "markdown",
   "metadata": {},
   "source": [
    "### Check boxes"
   ]
  },
  {
   "cell_type": "code",
   "execution_count": 6,
   "metadata": {
    "collapsed": true
   },
   "outputs": [],
   "source": [
    "check = widgets.Checkbox(\n",
    "    description='Check me',\n",
    "    value=True,\n",
    ")\n",
    "display(check)"
   ]
  },
  {
   "cell_type": "markdown",
   "metadata": {},
   "source": [
    "### HTML for titles"
   ]
  },
  {
   "cell_type": "code",
   "execution_count": 7,
   "metadata": {
    "collapsed": true
   },
   "outputs": [],
   "source": [
    "text_html = widgets.HTML(\"<h4><b>Bold Header 4 text</b></h4>\")\n",
    "display(text_html)"
   ]
  },
  {
   "cell_type": "markdown",
   "metadata": {},
   "source": [
    "### Slider"
   ]
  },
  {
   "cell_type": "code",
   "execution_count": 8,
   "metadata": {
    "collapsed": false
   },
   "outputs": [],
   "source": [
    "slide = widgets.FloatSlider(\n",
    "    value=7.5,\n",
    "    min=5.0,\n",
    "    max=10.0,\n",
    "    step=0.1,\n",
    "    description='Test:',\n",
    ")\n",
    "display(slide)"
   ]
  },
  {
   "cell_type": "markdown",
   "metadata": {},
   "source": [
    "### Progress bar"
   ]
  },
  {
   "cell_type": "code",
   "execution_count": 9,
   "metadata": {
    "collapsed": false
   },
   "outputs": [],
   "source": [
    "from time import sleep\n",
    "w = widgets.FloatProgress(\n",
    "    value=0,\n",
    "    min=0,\n",
    "    max=20,\n",
    "    description='Loading:',\n",
    ")\n",
    "display(w)\n",
    "for i in xrange(21):\n",
    "    w.value = i\n",
    "    sleep(.1)"
   ]
  },
  {
   "cell_type": "markdown",
   "metadata": {},
   "source": [
    "### Dropdown list"
   ]
  },
  {
   "cell_type": "code",
   "execution_count": 10,
   "metadata": {
    "collapsed": false,
    "scrolled": true
   },
   "outputs": [],
   "source": [
    "drop = widgets.Dropdown(\n",
    "    options=['1', '2', '3'],\n",
    "    default_value=2,\n",
    "    help='Number:',)\n",
    "display(drop)"
   ]
  },
  {
   "cell_type": "markdown",
   "metadata": {},
   "source": [
    "### List selection  "
   ]
  },
  {
   "cell_type": "code",
   "execution_count": 11,
   "metadata": {
    "collapsed": false
   },
   "outputs": [],
   "source": [
    "list1 = widgets.widget_selection.Select(\n",
    "    description='Select:',\n",
    "    options=['First option', 'Second option', 'Third option', 'More options'],\n",
    ")\n",
    "display(list1)"
   ]
  },
  {
   "cell_type": "markdown",
   "metadata": {},
   "source": [
    "#### Multiple selection  \n",
    "  \n",
    "For multiple selection hold the <kbd>shift</kbd> or <kbd>ctrl</kbd> keys down:"
   ]
  },
  {
   "cell_type": "code",
   "execution_count": 12,
   "metadata": {
    "collapsed": true
   },
   "outputs": [],
   "source": [
    "list2 = widgets.widget_selection.SelectMultiple(\n",
    "    description='Select:',\n",
    "    options=['First option', 'Second option', 'Third option', 'More options'],\n",
    ")\n",
    "display(list2)"
   ]
  },
  {
   "cell_type": "markdown",
   "metadata": {},
   "source": [
    "### Text areas  \n",
    "  \n",
    "#### Text field"
   ]
  },
  {
   "cell_type": "code",
   "execution_count": 13,
   "metadata": {
    "collapsed": true
   },
   "outputs": [],
   "source": [
    "text1 = widgets.Text(\n",
    "    description='Hello:',\n",
    "    value='World',\n",
    ")\n",
    "display(text1)"
   ]
  },
  {
   "cell_type": "markdown",
   "metadata": {},
   "source": [
    "#### Text area  \n",
    "For longer text"
   ]
  },
  {
   "cell_type": "code",
   "execution_count": 14,
   "metadata": {
    "collapsed": true
   },
   "outputs": [],
   "source": [
    "text2 = widgets.Textarea(\n",
    "    description='More:',\n",
    "    value='This is much much much much much bigger',\n",
    ")\n",
    "display(text2)"
   ]
  },
  {
   "cell_type": "markdown",
   "metadata": {},
   "source": [
    "#### Float field  \n",
    "  \n",
    "For numerical input fields"
   ]
  },
  {
   "cell_type": "code",
   "execution_count": 15,
   "metadata": {
    "collapsed": true
   },
   "outputs": [],
   "source": [
    "text3 = widgets.FloatText(\n",
    "    value=7.5,\n",
    "    description='Any:',\n",
    ")\n",
    "display(text3)"
   ]
  },
  {
   "cell_type": "markdown",
   "metadata": {},
   "source": [
    "#### Bounded float field  \n",
    "Bounded text areas provide the ability to set limits to the values in a float text field.  \n",
    "Try setting the text field to anything outside 5 - 10:"
   ]
  },
  {
   "cell_type": "code",
   "execution_count": 16,
   "metadata": {
    "collapsed": true
   },
   "outputs": [],
   "source": [
    "text4 = widgets.BoundedFloatText(\n",
    "    value=7.5,\n",
    "    min=5.0,\n",
    "    max=10.0,\n",
    "    description='Text:',\n",
    ")\n",
    "display(text4)"
   ]
  },
  {
   "cell_type": "markdown",
   "metadata": {},
   "source": [
    "## Layout  \n",
    "  \n",
    "We can display multplie items with multiple calls of `display`:"
   ]
  },
  {
   "cell_type": "code",
   "execution_count": 17,
   "metadata": {
    "collapsed": false
   },
   "outputs": [],
   "source": [
    "display(tog)\n",
    "display(bt)"
   ]
  },
  {
   "cell_type": "markdown",
   "metadata": {},
   "source": [
    "However, we can group the widgets into boxes that tie elements together within a specific layout:  \n",
    "\n",
    "### VBox  \n",
    "Vertical boxes stack widgets **on top of each other**:"
   ]
  },
  {
   "cell_type": "code",
   "execution_count": 18,
   "metadata": {
    "collapsed": true
   },
   "outputs": [],
   "source": [
    "v1_dash = widgets.VBox()\n",
    "v1_dash.children = [ tog2, bt ]  # We can define children afterwards\n",
    "display(v1_dash)"
   ]
  },
  {
   "cell_type": "markdown",
   "metadata": {},
   "source": [
    "### HBox  \n",
    "Horizontal boxes stack widgets **side by side**:"
   ]
  },
  {
   "cell_type": "code",
   "execution_count": 19,
   "metadata": {
    "collapsed": true
   },
   "outputs": [],
   "source": [
    "h1_dash = widgets.HBox(children = [ text1, drop, slide ])\n",
    "display(h1_dash)"
   ]
  },
  {
   "cell_type": "markdown",
   "metadata": {},
   "source": [
    "### Full layout  \n",
    "Additionally we can stack these boxes and nest them, to create more complex layouts:"
   ]
  },
  {
   "cell_type": "code",
   "execution_count": 20,
   "metadata": {
    "collapsed": false
   },
   "outputs": [],
   "source": [
    "full_dash = widgets.VBox()\n",
    "\n",
    "header = widgets.HTML(\n",
    "    \"<h3 style='color: darkblue; width: 900px; text-align: center;'>Dummy Dashboard</h3>\")\n",
    "upper_subpanel = widgets.HBox(childre = [tog, tog2])\n",
    "space1 = widgets.HTML(\"<br>\")\n",
    "mid_subpanel = widgets.HBox(children = [list1, list2])\n",
    "space2 = widgets.HTML(\"<br>\")\n",
    "lower_subpanel = widgets.HBox(children = [text3, bt])\n",
    "\n",
    "full_dash.children = [header, upper_subpanel, space1, mid_subpanel, space2, lower_subpanel]\n",
    "display(full_dash)"
   ]
  },
  {
   "cell_type": "markdown",
   "metadata": {},
   "source": [
    "## Events  \n",
    "  \n",
    "  \n",
    "### Click button  \n",
    "Listen to button clicks and trigger an action when clicked"
   ]
  },
  {
   "cell_type": "code",
   "execution_count": 21,
   "metadata": {
    "collapsed": false
   },
   "outputs": [],
   "source": [
    "button = widgets.Button(description=\"Click Me!\")\n",
    "display(button)\n",
    "\n",
    "def on_button_clicked(b):\n",
    "    print(\"Button clicked.\")\n",
    "\n",
    "button.on_click(on_button_clicked)"
   ]
  },
  {
   "cell_type": "markdown",
   "metadata": {},
   "source": [
    "### Submit form  \n",
    "Trigger action when form is submitted (hitting <kbd>enter</kbd> on a text field or area)"
   ]
  },
  {
   "cell_type": "code",
   "execution_count": 22,
   "metadata": {
    "collapsed": false
   },
   "outputs": [],
   "source": [
    "text = widgets.Text()\n",
    "display(text)\n",
    "\n",
    "def handle_submit(sender):\n",
    "    print(text.value)\n",
    "\n",
    "text.on_submit(handle_submit)"
   ]
  },
  {
   "cell_type": "markdown",
   "metadata": {},
   "source": [
    "### On value change  \n",
    "Trigger action when a widget changes value:"
   ]
  },
  {
   "cell_type": "code",
   "execution_count": 39,
   "metadata": {
    "collapsed": false,
    "scrolled": true
   },
   "outputs": [
    {
     "name": "stderr",
     "output_type": "stream",
     "text": [
      "/Users/will/miniconda3/envs/py2/lib/python2.7/site-packages/ipykernel/__main__.py:7: DeprecationWarning: on_trait_change is deprecated: use observe instead\n"
     ]
    },
    {
     "name": "stdout",
     "output_type": "stream",
     "text": [
      "28\n",
      "45\n",
      "12\n",
      "11\n",
      "10\n",
      "11\n"
     ]
    }
   ],
   "source": [
    "int_range = widgets.IntSlider()\n",
    "display(int_range)\n",
    "\n",
    "def on_value_change(name, v):\n",
    "    print(v)\n",
    "\n",
    "int_range.on_trait_change(on_value_change, 'value')"
   ]
  },
  {
   "cell_type": "code",
   "execution_count": null,
   "metadata": {
    "collapsed": true
   },
   "outputs": [],
   "source": []
  }
 ],
 "metadata": {
  "kernelspec": {
   "display_name": "Python 2",
   "language": "python",
   "name": "python2"
  },
  "language_info": {
   "codemirror_mode": {
    "name": "ipython",
    "version": 2
   },
   "file_extension": ".py",
   "mimetype": "text/x-python",
   "name": "python",
   "nbconvert_exporter": "python",
   "pygments_lexer": "ipython2",
   "version": "2.7.11"
  }
 },
 "nbformat": 4,
 "nbformat_minor": 0
}
