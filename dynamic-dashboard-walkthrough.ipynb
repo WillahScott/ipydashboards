{
 "cells": [
  {
   "cell_type": "markdown",
   "metadata": {},
   "source": [
    "# Dynamic dashboards (Ipywidgets)\n",
    "\n",
    "## INDEX\n",
    "\n",
    "* [Dynamic descriptions](#Dynamic-descriptions)\n",
    "* [Dynamic options](#Dynamic-options)\n",
    "* [Dynamic buttons](#Dynamic-buttons)\n",
    "* [Widget with tabs](#Widget-with-tabs)\n",
    "* [Using the set visible attribute](#Using-the-set-visible-attribute)"
   ]
  },
  {
   "cell_type": "code",
   "execution_count": 1,
   "metadata": {
    "collapsed": true
   },
   "outputs": [],
   "source": [
    "from ipywidgets import widgets\n",
    "from IPython.display import display, clear_output"
   ]
  },
  {
   "cell_type": "markdown",
   "metadata": {},
   "source": [
    "## Dynamic descriptions"
   ]
  },
  {
   "cell_type": "code",
   "execution_count": 2,
   "metadata": {
    "collapsed": false
   },
   "outputs": [],
   "source": [
    "# DASHBOARD\n",
    "_button = widgets.Button(description='blabla')\n",
    "_text = widgets.Text()\n",
    "\n",
    "dash1 = widgets.HBox(children = [ _button, _text ])\n",
    "\n",
    "# EVENTS\n",
    "def update_description(b):\n",
    "    _button.description = _text.value\n",
    "\n",
    "_button.on_click(update_description)\n",
    "_text.on_submit(update_description)"
   ]
  },
  {
   "cell_type": "code",
   "execution_count": 3,
   "metadata": {
    "collapsed": true
   },
   "outputs": [],
   "source": [
    "display(dash1)"
   ]
  },
  {
   "cell_type": "markdown",
   "metadata": {},
   "source": [
    "## Dynamic options"
   ]
  },
  {
   "cell_type": "code",
   "execution_count": 4,
   "metadata": {
    "collapsed": false
   },
   "outputs": [],
   "source": [
    "# Pre-structures\n",
    "_all = ['1','2','3','4','5','6']\n",
    "_even = ['2','4','6']\n",
    "_odd = ['1','3','5']\n",
    "\n",
    "# DASHBOARD\n",
    "d2_togg = widgets.ToggleButtons(options={'all':_all, 'even':_even, 'odd':_odd}, description='Integers:')\n",
    "d2_nums = widgets.ToggleButtons(options=d2_togg.value)\n",
    "\n",
    "dash2 = widgets.VBox(children = [ d2_togg, d2_nums ])\n",
    "\n",
    "# EVENTS\n",
    "def update_togg(trait_name, old_value, new_value):\n",
    "    d2_nums.options = [] # clear options in order to get the desired order\n",
    "    d2_nums.options = new_value\n",
    "\n",
    "d2_togg.on_trait_change(update_togg, 'value')"
   ]
  },
  {
   "cell_type": "code",
   "execution_count": 5,
   "metadata": {
    "collapsed": false
   },
   "outputs": [],
   "source": [
    "display(dash2)"
   ]
  },
  {
   "cell_type": "markdown",
   "metadata": {},
   "source": [
    "## Dynamic buttons"
   ]
  },
  {
   "cell_type": "code",
   "execution_count": 6,
   "metadata": {
    "collapsed": false
   },
   "outputs": [],
   "source": [
    "# Pre-structures\n",
    "_possible_bs = ['Go!','Generate','do','stop!']\n",
    "\n",
    "# DASHBOARD\n",
    "d3_num_bs = widgets.Dropdown(options=['1','2','3','4'], description='How many buttons:')\n",
    "d3_buttons = []\n",
    "for i in range( int(d3_num_bs.value) ):\n",
    "    d3_buttons.append( widgets.Button(description=_possible_bs[i]) )\n",
    "d3_buttons_grp = widgets.HBox(children = d3_buttons)\n",
    "\n",
    "dash3 = widgets.VBox(children = [ d3_num_bs, d3_buttons_grp ])\n",
    "\n",
    "# EVENTS\n",
    "def create_buttons(trait_name, old_value, new_value):\n",
    "    new_d3_buttons = []\n",
    "    for i in range( int(d3_num_bs.value) ):\n",
    "        new_d3_buttons.append( widgets.Button(description=_possible_bs[i]) )\n",
    "    \n",
    "    d3_buttons_grp.children = new_d3_buttons\n",
    "\n",
    "d3_num_bs.on_trait_change(create_buttons, 'value')"
   ]
  },
  {
   "cell_type": "code",
   "execution_count": 7,
   "metadata": {
    "collapsed": true
   },
   "outputs": [],
   "source": [
    "display(dash3)"
   ]
  },
  {
   "cell_type": "markdown",
   "metadata": {},
   "source": [
    "## Widget with tabs"
   ]
  },
  {
   "cell_type": "code",
   "execution_count": 8,
   "metadata": {
    "collapsed": false
   },
   "outputs": [],
   "source": [
    "person = widgets.HTML(\"<h4>Person</h4>\")\n",
    "name = widgets.Text(description='Name:')\n",
    "color = widgets.Dropdown(description='Color:', options=['red', 'orange', 'yellow', 'green', 'blue', 'indigo', 'violet'])\n",
    "page1 = widgets.VBox(children=[name, color])\n",
    "\n",
    "age = widgets.IntSlider(description='Age:', min=0, max=120, value=50)\n",
    "gender = widgets.RadioButtons(description='Gender:', values=['male', 'female'])\n",
    "page2 = widgets.VBox(children=[age, gender])\n",
    "\n",
    "tabs = widgets.Tab(children=[page1, page2])\n",
    "\n",
    "tabs.set_title(0, 'Name')\n",
    "tabs.set_title(1, 'Details')\n",
    "\n",
    "dash4 = widgets.VBox(children=[person,tabs])"
   ]
  },
  {
   "cell_type": "code",
   "execution_count": 9,
   "metadata": {
    "collapsed": true
   },
   "outputs": [],
   "source": [
    "display(dash4)"
   ]
  },
  {
   "cell_type": "markdown",
   "metadata": {},
   "source": [
    "## Using the set visible attribute"
   ]
  },
  {
   "cell_type": "code",
   "execution_count": 10,
   "metadata": {
    "collapsed": false
   },
   "outputs": [],
   "source": [
    "# DASHBOARD CREATION\n",
    "first = widgets.Text(description=\"First:\")\n",
    "last = widgets.Text(description=\"Last:\")\n",
    "\n",
    "student = widgets.Checkbox(description=\"Student:\", value=False)\n",
    "school_info = widgets.VBox(visible=False, children=[\n",
    "    widgets.Text(description=\"School:\"),\n",
    "    widgets.IntText(description=\"Grade:\", min=0, max=12)\n",
    "    ])\n",
    "\n",
    "pet = widgets.Text(description=\"Pet:\")\n",
    "\n",
    "dash5 = widgets.VBox()\n",
    "dash5.children = [first, last, student, school_info, pet]\n",
    "\n",
    "# EVENT HANDLING\n",
    "def on_student_toggle(trait, old_value, new_value):\n",
    "    if new_value:\n",
    "        school_info.visible = True\n",
    "    else:\n",
    "        school_info.visible = False\n",
    "\n",
    "student.on_trait_change(on_student_toggle, 'value')"
   ]
  },
  {
   "cell_type": "code",
   "execution_count": 11,
   "metadata": {
    "collapsed": true
   },
   "outputs": [],
   "source": [
    "display(dash5)"
   ]
  },
  {
   "cell_type": "code",
   "execution_count": null,
   "metadata": {
    "collapsed": true
   },
   "outputs": [],
   "source": []
  }
 ],
 "metadata": {
  "kernelspec": {
   "display_name": "MRG Default",
   "language": "python",
   "name": "mrg_default"
  },
  "language_info": {
   "codemirror_mode": {
    "name": "ipython",
    "version": 2
   },
   "file_extension": ".py",
   "mimetype": "text/x-python",
   "name": "python",
   "nbconvert_exporter": "python",
   "pygments_lexer": "ipython2",
   "version": "2.7.11"
  }
 },
 "nbformat": 4,
 "nbformat_minor": 0
}
